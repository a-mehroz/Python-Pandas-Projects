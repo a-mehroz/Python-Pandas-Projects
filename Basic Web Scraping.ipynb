{
 "cells": [
  {
   "cell_type": "code",
   "execution_count": 1,
   "id": "cb01453a-db91-4bd7-80e3-e95bee430f7a",
   "metadata": {},
   "outputs": [],
   "source": [
    "from bs4 import BeautifulSoup\n",
    "import requests"
   ]
  },
  {
   "cell_type": "code",
   "execution_count": 3,
   "id": "50b5c046-f2bb-4021-8ea8-95762ff45570",
   "metadata": {},
   "outputs": [],
   "source": [
    "url = 'https://en.wikipedia.org/wiki/List_of_largest_companies_in_the_United_States_by_revenue'\n",
    "\n",
    "page = requests.get(url)\n",
    "\n",
    "soup = BeautifulSoup(page.text, 'html')"
   ]
  },
  {
   "cell_type": "code",
   "execution_count": null,
   "id": "65076759-9505-4aba-90d0-50a45c0cbd53",
   "metadata": {},
   "outputs": [],
   "source": [
    "print(soup)"
   ]
  },
  {
   "cell_type": "code",
   "execution_count": 21,
   "id": "e2f833a7-50ea-42b1-aeaf-c50cd92d81ef",
   "metadata": {},
   "outputs": [],
   "source": [
    "table = soup.find_all('table')[0]"
   ]
  },
  {
   "cell_type": "code",
   "execution_count": null,
   "id": "3751a057-fad9-46d9-842c-7873025ce828",
   "metadata": {},
   "outputs": [],
   "source": [
    "print(table)"
   ]
  },
  {
   "cell_type": "code",
   "execution_count": 27,
   "id": "41d48e88-fc17-4305-8154-27b3c7487b29",
   "metadata": {},
   "outputs": [],
   "source": [
    "world_titles = table.find_all('th')"
   ]
  },
  {
   "cell_type": "code",
   "execution_count": 29,
   "id": "02c2c14e-02ef-40d2-a077-1ffe9ce385cc",
   "metadata": {},
   "outputs": [
    {
     "data": {
      "text/plain": [
       "[<th>Rank\n",
       " </th>,\n",
       " <th>Name\n",
       " </th>,\n",
       " <th>Industry\n",
       " </th>,\n",
       " <th>Revenue <br/>(USD millions)\n",
       " </th>,\n",
       " <th>Revenue growth\n",
       " </th>,\n",
       " <th>Employees\n",
       " </th>,\n",
       " <th>Headquarters\n",
       " </th>]"
      ]
     },
     "execution_count": 29,
     "metadata": {},
     "output_type": "execute_result"
    }
   ],
   "source": [
    "world_titles"
   ]
  },
  {
   "cell_type": "code",
   "execution_count": 35,
   "id": "435fd983-866d-4e96-b187-1b2d65451be0",
   "metadata": {},
   "outputs": [
    {
     "name": "stdout",
     "output_type": "stream",
     "text": [
      "['Rank', 'Name', 'Industry', 'Revenue (USD millions)', 'Revenue growth', 'Employees', 'Headquarters']\n"
     ]
    }
   ],
   "source": [
    "world_table_titles = [title.text.strip() for title in world_titles]\n",
    "print(world_table_titles)"
   ]
  },
  {
   "cell_type": "code",
   "execution_count": 37,
   "id": "8ad03f97-bf27-4126-a957-71c62a9bf17a",
   "metadata": {},
   "outputs": [],
   "source": [
    "import pandas as pd"
   ]
  },
  {
   "cell_type": "code",
   "execution_count": 39,
   "id": "e682204d-788b-468d-ab19-eeed4b840422",
   "metadata": {},
   "outputs": [
    {
     "data": {
      "text/html": [
       "<div>\n",
       "<style scoped>\n",
       "    .dataframe tbody tr th:only-of-type {\n",
       "        vertical-align: middle;\n",
       "    }\n",
       "\n",
       "    .dataframe tbody tr th {\n",
       "        vertical-align: top;\n",
       "    }\n",
       "\n",
       "    .dataframe thead th {\n",
       "        text-align: right;\n",
       "    }\n",
       "</style>\n",
       "<table border=\"1\" class=\"dataframe\">\n",
       "  <thead>\n",
       "    <tr style=\"text-align: right;\">\n",
       "      <th></th>\n",
       "      <th>Rank</th>\n",
       "      <th>Name</th>\n",
       "      <th>Industry</th>\n",
       "      <th>Revenue (USD millions)</th>\n",
       "      <th>Revenue growth</th>\n",
       "      <th>Employees</th>\n",
       "      <th>Headquarters</th>\n",
       "    </tr>\n",
       "  </thead>\n",
       "  <tbody>\n",
       "  </tbody>\n",
       "</table>\n",
       "</div>"
      ],
      "text/plain": [
       "Empty DataFrame\n",
       "Columns: [Rank, Name, Industry, Revenue (USD millions), Revenue growth, Employees, Headquarters]\n",
       "Index: []"
      ]
     },
     "execution_count": 39,
     "metadata": {},
     "output_type": "execute_result"
    }
   ],
   "source": [
    "df = pd.DataFrame(columns = world_table_titles)\n",
    "df"
   ]
  },
  {
   "cell_type": "code",
   "execution_count": null,
   "id": "ac24afa6-96c7-4a71-a1af-90b06a553774",
   "metadata": {},
   "outputs": [],
   "source": [
    "column_data = table.find_all('tr')\n",
    "column_data"
   ]
  },
  {
   "cell_type": "code",
   "execution_count": 49,
   "id": "757a2333-bcc1-4fe8-a1e4-02e11a13ce72",
   "metadata": {},
   "outputs": [],
   "source": [
    "for row in column_data[1:]:\n",
    "    row_data = row.find_all('td')\n",
    "    individual_row_data = [data.text.strip() for data in row_data]\n",
    "    \n",
    "    length = len(df)\n",
    "    df.loc[length] = individual_row_data"
   ]
  },
  {
   "cell_type": "code",
   "execution_count": 53,
   "id": "0bad91b0-3c3b-4227-af29-3d1107017a5d",
   "metadata": {},
   "outputs": [
    {
     "data": {
      "text/html": [
       "<div>\n",
       "<style scoped>\n",
       "    .dataframe tbody tr th:only-of-type {\n",
       "        vertical-align: middle;\n",
       "    }\n",
       "\n",
       "    .dataframe tbody tr th {\n",
       "        vertical-align: top;\n",
       "    }\n",
       "\n",
       "    .dataframe thead th {\n",
       "        text-align: right;\n",
       "    }\n",
       "</style>\n",
       "<table border=\"1\" class=\"dataframe\">\n",
       "  <thead>\n",
       "    <tr style=\"text-align: right;\">\n",
       "      <th></th>\n",
       "      <th>Rank</th>\n",
       "      <th>Name</th>\n",
       "      <th>Industry</th>\n",
       "      <th>Revenue (USD millions)</th>\n",
       "      <th>Revenue growth</th>\n",
       "      <th>Employees</th>\n",
       "      <th>Headquarters</th>\n",
       "    </tr>\n",
       "  </thead>\n",
       "  <tbody>\n",
       "    <tr>\n",
       "      <th>0</th>\n",
       "      <td>1</td>\n",
       "      <td>Walmart</td>\n",
       "      <td>Retail</td>\n",
       "      <td>648,125</td>\n",
       "      <td>6.0%</td>\n",
       "      <td>2,100,000</td>\n",
       "      <td>Bentonville, Arkansas</td>\n",
       "    </tr>\n",
       "    <tr>\n",
       "      <th>1</th>\n",
       "      <td>2</td>\n",
       "      <td>Amazon</td>\n",
       "      <td>Retail and cloud computing</td>\n",
       "      <td>574,785</td>\n",
       "      <td>11.9%</td>\n",
       "      <td>1,525,000</td>\n",
       "      <td>Seattle, Washington</td>\n",
       "    </tr>\n",
       "    <tr>\n",
       "      <th>2</th>\n",
       "      <td>3</td>\n",
       "      <td>Apple</td>\n",
       "      <td>Electronics industry</td>\n",
       "      <td>383,482</td>\n",
       "      <td>-2.8%</td>\n",
       "      <td>161,000</td>\n",
       "      <td>Cupertino, California</td>\n",
       "    </tr>\n",
       "    <tr>\n",
       "      <th>3</th>\n",
       "      <td>4</td>\n",
       "      <td>UnitedHealth Group</td>\n",
       "      <td>Healthcare</td>\n",
       "      <td>371,622</td>\n",
       "      <td>14.6%</td>\n",
       "      <td>440,000</td>\n",
       "      <td>Minnetonka, Minnesota</td>\n",
       "    </tr>\n",
       "    <tr>\n",
       "      <th>4</th>\n",
       "      <td>5</td>\n",
       "      <td>Berkshire Hathaway</td>\n",
       "      <td>Conglomerate</td>\n",
       "      <td>364,482</td>\n",
       "      <td>20.7%</td>\n",
       "      <td>396,500</td>\n",
       "      <td>Omaha, Nebraska</td>\n",
       "    </tr>\n",
       "    <tr>\n",
       "      <th>...</th>\n",
       "      <td>...</td>\n",
       "      <td>...</td>\n",
       "      <td>...</td>\n",
       "      <td>...</td>\n",
       "      <td>...</td>\n",
       "      <td>...</td>\n",
       "      <td>...</td>\n",
       "    </tr>\n",
       "    <tr>\n",
       "      <th>95</th>\n",
       "      <td>96</td>\n",
       "      <td>TIAA</td>\n",
       "      <td>Financials</td>\n",
       "      <td>45,735</td>\n",
       "      <td>11.8%</td>\n",
       "      <td>16,023</td>\n",
       "      <td>New York City, New York</td>\n",
       "    </tr>\n",
       "    <tr>\n",
       "      <th>96</th>\n",
       "      <td>97</td>\n",
       "      <td>CHS</td>\n",
       "      <td>Agriculture cooperative</td>\n",
       "      <td>45,590</td>\n",
       "      <td>-4.6%</td>\n",
       "      <td>10,609</td>\n",
       "      <td>Inver Grove Heights, Minnesota</td>\n",
       "    </tr>\n",
       "    <tr>\n",
       "      <th>97</th>\n",
       "      <td>98</td>\n",
       "      <td>Bristol-Myers Squibb</td>\n",
       "      <td>Pharmaceutical industry</td>\n",
       "      <td>45,006</td>\n",
       "      <td>-2.5%</td>\n",
       "      <td>34,100</td>\n",
       "      <td>New York City, New York</td>\n",
       "    </tr>\n",
       "    <tr>\n",
       "      <th>98</th>\n",
       "      <td>99</td>\n",
       "      <td>Dow Chemical Company</td>\n",
       "      <td>Chemical industry</td>\n",
       "      <td>44,622</td>\n",
       "      <td>-21.6%</td>\n",
       "      <td>35,900</td>\n",
       "      <td>Midland, Michigan</td>\n",
       "    </tr>\n",
       "    <tr>\n",
       "      <th>99</th>\n",
       "      <td>100</td>\n",
       "      <td>Best Buy</td>\n",
       "      <td>Retail</td>\n",
       "      <td>43,452</td>\n",
       "      <td>-6.1%</td>\n",
       "      <td>85,000</td>\n",
       "      <td>Richfield, Minnesota</td>\n",
       "    </tr>\n",
       "  </tbody>\n",
       "</table>\n",
       "<p>100 rows × 7 columns</p>\n",
       "</div>"
      ],
      "text/plain": [
       "   Rank                  Name                    Industry  \\\n",
       "0     1               Walmart                      Retail   \n",
       "1     2                Amazon  Retail and cloud computing   \n",
       "2     3                 Apple        Electronics industry   \n",
       "3     4    UnitedHealth Group                  Healthcare   \n",
       "4     5    Berkshire Hathaway                Conglomerate   \n",
       "..  ...                   ...                         ...   \n",
       "95   96                  TIAA                  Financials   \n",
       "96   97                   CHS     Agriculture cooperative   \n",
       "97   98  Bristol-Myers Squibb     Pharmaceutical industry   \n",
       "98   99  Dow Chemical Company           Chemical industry   \n",
       "99  100              Best Buy                      Retail   \n",
       "\n",
       "   Revenue (USD millions) Revenue growth  Employees  \\\n",
       "0                 648,125           6.0%  2,100,000   \n",
       "1                 574,785          11.9%  1,525,000   \n",
       "2                 383,482          -2.8%    161,000   \n",
       "3                 371,622          14.6%    440,000   \n",
       "4                 364,482          20.7%    396,500   \n",
       "..                    ...            ...        ...   \n",
       "95                 45,735          11.8%     16,023   \n",
       "96                 45,590          -4.6%     10,609   \n",
       "97                 45,006          -2.5%     34,100   \n",
       "98                 44,622         -21.6%     35,900   \n",
       "99                 43,452          -6.1%     85,000   \n",
       "\n",
       "                      Headquarters  \n",
       "0            Bentonville, Arkansas  \n",
       "1              Seattle, Washington  \n",
       "2            Cupertino, California  \n",
       "3            Minnetonka, Minnesota  \n",
       "4                  Omaha, Nebraska  \n",
       "..                             ...  \n",
       "95         New York City, New York  \n",
       "96  Inver Grove Heights, Minnesota  \n",
       "97         New York City, New York  \n",
       "98               Midland, Michigan  \n",
       "99            Richfield, Minnesota  \n",
       "\n",
       "[100 rows x 7 columns]"
      ]
     },
     "execution_count": 53,
     "metadata": {},
     "output_type": "execute_result"
    }
   ],
   "source": [
    "df"
   ]
  },
  {
   "cell_type": "code",
   "execution_count": 55,
   "id": "efb50ebe-301f-4ea5-9e3f-801a2e1f54a2",
   "metadata": {},
   "outputs": [],
   "source": [
    "df.to_csv(r'D:\\Data Analyst Series\\companies.csv', index = False)"
   ]
  },
  {
   "cell_type": "code",
   "execution_count": null,
   "id": "5fb929cb-5d22-4be8-a736-a3d266a2f830",
   "metadata": {},
   "outputs": [],
   "source": []
  }
 ],
 "metadata": {
  "kernelspec": {
   "display_name": "Python [conda env:base] *",
   "language": "python",
   "name": "conda-base-py"
  },
  "language_info": {
   "codemirror_mode": {
    "name": "ipython",
    "version": 3
   },
   "file_extension": ".py",
   "mimetype": "text/x-python",
   "name": "python",
   "nbconvert_exporter": "python",
   "pygments_lexer": "ipython3",
   "version": "3.12.7"
  }
 },
 "nbformat": 4,
 "nbformat_minor": 5
}
